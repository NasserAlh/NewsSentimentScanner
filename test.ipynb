{
 "cells": [
  {
   "cell_type": "code",
   "execution_count": null,
   "id": "38996761",
   "metadata": {},
   "outputs": [
    {
     "name": "stdout",
     "output_type": "stream",
     "text": [
      "VADER Polarity (Compound Score): 0.40\n"
     ]
    }
   ],
   "source": [
    "text = \"Gold Bull Market: Trading Expert Issues Warning - And Huge Opportunity\"\n",
    "\n",
    "from vaderSentiment.vaderSentiment import SentimentIntensityAnalyzer\n",
    "\n",
    "analyzer = SentimentIntensityAnalyzer()\n",
    "\n",
    "def get_vader_polarity(text):\n",
    "    scores = analyzer.polarity_scores(text)\n",
    "    return scores['compound']  # Compound score: -1 (neg) to +1 (pos)\n",
    "\n",
    "# usage...\n",
    "sentence = text\n",
    "polarity = get_vader_polarity(sentence)\n",
    "print(f\"VADER Polarity (Compound Score): {polarity:.2f}\")\n"
   ]
  },
  {
   "cell_type": "code",
   "execution_count": null,
   "id": "53dd0be1",
   "metadata": {},
   "outputs": [],
   "source": []
  }
 ],
 "metadata": {
  "kernelspec": {
   "display_name": "Python 3",
   "language": "python",
   "name": "python3"
  },
  "language_info": {
   "codemirror_mode": {
    "name": "ipython",
    "version": 3
   },
   "file_extension": ".py",
   "mimetype": "text/x-python",
   "name": "python",
   "nbconvert_exporter": "python",
   "pygments_lexer": "ipython3",
   "version": "3.11.4"
  }
 },
 "nbformat": 4,
 "nbformat_minor": 5
}
